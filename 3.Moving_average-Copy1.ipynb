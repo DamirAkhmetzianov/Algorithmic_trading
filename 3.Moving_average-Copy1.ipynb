{
 "cells": [
  {
   "cell_type": "code",
   "execution_count": 156,
   "id": "c97fd437",
   "metadata": {},
   "outputs": [],
   "source": [
    "import numpy as np\n",
    "import pandas as pd\n",
    "import matplotlib.pyplot as plt"
   ]
  },
  {
   "cell_type": "code",
   "execution_count": 183,
   "id": "b2091df4",
   "metadata": {},
   "outputs": [],
   "source": [
    "#Импортирование данных, убираю лишние столбцы\n",
    "df = pd.read_csv('C:/Users/damir/OneDrive/Документы/Трейдинг/Python/SBER_200801_220823.csv', sep=';') \\\n",
    "    .drop(columns=['<PER>', '<TIME>', '<TICKER>']) \\\n",
    "    .rename(columns={'<DATE>':'Date', '<OPEN>':'Open', '<HIGH>':'High', '<LOW>':'Low', '<CLOSE>':'Close', '<VOL>':'Volume'})"
   ]
  },
  {
   "cell_type": "code",
   "execution_count": 184,
   "id": "d62e4d4e",
   "metadata": {},
   "outputs": [],
   "source": [
    "#Меняю формат столбца с датой Int64 на дату\n",
    "df['Date'] = pd.to_datetime(df['Date'], format='%Y%m%d')"
   ]
  },
  {
   "cell_type": "code",
   "execution_count": 185,
   "id": "0064ae3d",
   "metadata": {},
   "outputs": [],
   "source": [
    "#Меняю формат даты\n",
    "df['Date'] = df['Date'].dt.strftime('%d/%m/%Y')"
   ]
  },
  {
   "cell_type": "code",
   "execution_count": 186,
   "id": "3a308c7b",
   "metadata": {},
   "outputs": [],
   "source": [
    "#Расчет доходностей\n",
    "df['Income'] = df['Close'][1:].reset_index(drop=True)/df['Close'][:-1].reset_index(drop=True) -1"
   ]
  },
  {
   "cell_type": "code",
   "execution_count": 187,
   "id": "f17a28a5",
   "metadata": {},
   "outputs": [],
   "source": [
    "#Расчет доходностей скользящих\n",
    "short = 5\n",
    "long = 12\n",
    "df['SMA'] = df['Close'].rolling(short).mean()\n",
    "df['LMA'] = df['Close'].rolling(long).mean()"
   ]
  },
  {
   "cell_type": "code",
   "execution_count": 188,
   "id": "4e23c67a",
   "metadata": {},
   "outputs": [],
   "source": [
    "#Избавляемся от ненужных строк\n",
    "df = df.drop(len(data)-1)\n",
    "df = df.drop(data.index[0:long-1])"
   ]
  },
  {
   "cell_type": "code",
   "execution_count": 190,
   "id": "2dca7149",
   "metadata": {},
   "outputs": [],
   "source": [
    "#Доходность стратегии\n",
    "df['strategy'] = df['Income']*(df['SMA']>df['LMA']) - df['Income']*(df['SMA']<df['LMA'])"
   ]
  },
  {
   "cell_type": "code",
   "execution_count": 194,
   "id": "427a0776",
   "metadata": {},
   "outputs": [
    {
     "name": "stdout",
     "output_type": "stream",
     "text": [
      "Годовая дохождность скользящих средних 16.93%\n",
      "Годовая дохождность акции -26.27%\n"
     ]
    },
    {
     "data": {
      "image/png": "[encoded data removed]",
      "text/plain": [
       "<Figure size 432x288 with 1 Axes>"
      ]
     },
     "metadata": {
      "needs_background": "light"
     },
     "output_type": "display_data"
    }
   ],
   "source": [
    "#Визуализация результатов\n",
    "plt.plot(np.cumprod(1+df['strategy']))\n",
    "plt.plot(np.cumprod(1+df['Income']))\n",
    "r_strat = np.prod(1+df['strategy'])**(252/len(df['strategy'])) -1\n",
    "r_bnh = np.prod(1+df['Income'])**(252/len(df['Income'])) -1\n",
    "print('Годовая дохождность скользящих средних ' + str(round(r_strat*100,2))+ '%')\n",
    "print('Годовая дохождность акции ' + str(round(r_bnh*100,2))+ '%')"
   ]
  },
  {
   "cell_type": "code",
   "execution_count": null,
   "id": "0facd8ac",
   "metadata": {},
   "outputs": [],
   "source": []
  },
  {
   "cell_type": "code",
   "execution_count": 189,
   "id": "41a1d33a",
   "metadata": {},
   "outputs": [
    {
     "data": {
      "text/html": [
       "<div>\n",
       "<style scoped>\n",
       "    .dataframe tbody tr th:only-of-type {\n",
       "        vertical-align: middle;\n",
       "    }\n",
       "\n",
       "    .dataframe tbody tr th {\n",
       "        vertical-align: top;\n",
       "    }\n",
       "\n",
       "    .dataframe thead th {\n",
       "        text-align: right;\n",
       "    }\n",
       "</style>\n",
       "<table border=\"1\" class=\"dataframe\">\n",
       "  <thead>\n",
       "    <tr style=\"text-align: right;\">\n",
       "      <th></th>\n",
       "      <th>Date</th>\n",
       "      <th>Open</th>\n",
       "      <th>High</th>\n",
       "      <th>Low</th>\n",
       "      <th>Close</th>\n",
       "      <th>Volume</th>\n",
       "      <th>Income</th>\n",
       "      <th>SMA</th>\n",
       "      <th>LMA</th>\n",
       "    </tr>\n",
       "  </thead>\n",
       "  <tbody>\n",
       "    <tr>\n",
       "      <th>11</th>\n",
       "      <td>18/08/2020</td>\n",
       "      <td>236.88</td>\n",
       "      <td>239.83</td>\n",
       "      <td>235.69</td>\n",
       "      <td>236.30</td>\n",
       "      <td>36709210</td>\n",
       "      <td>0.013119</td>\n",
       "      <td>239.576</td>\n",
       "      <td>232.506667</td>\n",
       "    </tr>\n",
       "    <tr>\n",
       "      <th>12</th>\n",
       "      <td>19/08/2020</td>\n",
       "      <td>235.89</td>\n",
       "      <td>240.75</td>\n",
       "      <td>235.19</td>\n",
       "      <td>239.40</td>\n",
       "      <td>38198470</td>\n",
       "      <td>-0.028906</td>\n",
       "      <td>238.976</td>\n",
       "      <td>233.563333</td>\n",
       "    </tr>\n",
       "    <tr>\n",
       "      <th>13</th>\n",
       "      <td>20/08/2020</td>\n",
       "      <td>238.44</td>\n",
       "      <td>238.51</td>\n",
       "      <td>230.33</td>\n",
       "      <td>232.48</td>\n",
       "      <td>116907020</td>\n",
       "      <td>-0.005420</td>\n",
       "      <td>237.194</td>\n",
       "      <td>234.006667</td>\n",
       "    </tr>\n",
       "    <tr>\n",
       "      <th>14</th>\n",
       "      <td>21/08/2020</td>\n",
       "      <td>233.32</td>\n",
       "      <td>236.50</td>\n",
       "      <td>227.35</td>\n",
       "      <td>231.22</td>\n",
       "      <td>138860290</td>\n",
       "      <td>0.002552</td>\n",
       "      <td>235.440</td>\n",
       "      <td>234.408333</td>\n",
       "    </tr>\n",
       "    <tr>\n",
       "      <th>15</th>\n",
       "      <td>24/08/2020</td>\n",
       "      <td>232.50</td>\n",
       "      <td>233.70</td>\n",
       "      <td>230.20</td>\n",
       "      <td>231.81</td>\n",
       "      <td>44448280</td>\n",
       "      <td>-0.016091</td>\n",
       "      <td>234.242</td>\n",
       "      <td>234.892500</td>\n",
       "    </tr>\n",
       "    <tr>\n",
       "      <th>...</th>\n",
       "      <td>...</td>\n",
       "      <td>...</td>\n",
       "      <td>...</td>\n",
       "      <td>...</td>\n",
       "      <td>...</td>\n",
       "      <td>...</td>\n",
       "      <td>...</td>\n",
       "      <td>...</td>\n",
       "      <td>...</td>\n",
       "    </tr>\n",
       "    <tr>\n",
       "      <th>498</th>\n",
       "      <td>16/08/2022</td>\n",
       "      <td>125.17</td>\n",
       "      <td>126.86</td>\n",
       "      <td>124.53</td>\n",
       "      <td>126.39</td>\n",
       "      <td>27210450</td>\n",
       "      <td>-0.014954</td>\n",
       "      <td>125.184</td>\n",
       "      <td>125.600000</td>\n",
       "    </tr>\n",
       "    <tr>\n",
       "      <th>499</th>\n",
       "      <td>17/08/2022</td>\n",
       "      <td>126.57</td>\n",
       "      <td>127.44</td>\n",
       "      <td>124.50</td>\n",
       "      <td>124.50</td>\n",
       "      <td>32862470</td>\n",
       "      <td>0.014458</td>\n",
       "      <td>124.844</td>\n",
       "      <td>125.363333</td>\n",
       "    </tr>\n",
       "    <tr>\n",
       "      <th>500</th>\n",
       "      <td>18/08/2022</td>\n",
       "      <td>124.39</td>\n",
       "      <td>126.50</td>\n",
       "      <td>123.92</td>\n",
       "      <td>126.30</td>\n",
       "      <td>25365910</td>\n",
       "      <td>-0.008709</td>\n",
       "      <td>125.414</td>\n",
       "      <td>125.260833</td>\n",
       "    </tr>\n",
       "    <tr>\n",
       "      <th>501</th>\n",
       "      <td>19/08/2022</td>\n",
       "      <td>126.35</td>\n",
       "      <td>126.36</td>\n",
       "      <td>124.72</td>\n",
       "      <td>125.20</td>\n",
       "      <td>18581110</td>\n",
       "      <td>0.006869</td>\n",
       "      <td>125.478</td>\n",
       "      <td>125.123333</td>\n",
       "    </tr>\n",
       "    <tr>\n",
       "      <th>502</th>\n",
       "      <td>22/08/2022</td>\n",
       "      <td>125.08</td>\n",
       "      <td>126.69</td>\n",
       "      <td>124.70</td>\n",
       "      <td>126.06</td>\n",
       "      <td>24420350</td>\n",
       "      <td>0.034031</td>\n",
       "      <td>125.690</td>\n",
       "      <td>125.049167</td>\n",
       "    </tr>\n",
       "  </tbody>\n",
       "</table>\n",
       "<p>492 rows × 9 columns</p>\n",
       "</div>"
      ],
      "text/plain": [
       "           Date    Open    High     Low   Close     Volume    Income      SMA  \\\n",
       "11   18/08/2020  236.88  239.83  235.69  236.30   36709210  0.013119  239.576   \n",
       "12   19/08/2020  235.89  240.75  235.19  239.40   38198470 -0.028906  238.976   \n",
       "13   20/08/2020  238.44  238.51  230.33  232.48  116907020 -0.005420  237.194   \n",
       "14   21/08/2020  233.32  236.50  227.35  231.22  138860290  0.002552  235.440   \n",
       "15   24/08/2020  232.50  233.70  230.20  231.81   44448280 -0.016091  234.242   \n",
       "..          ...     ...     ...     ...     ...        ...       ...      ...   \n",
       "498  16/08/2022  125.17  126.86  124.53  126.39   27210450 -0.014954  125.184   \n",
       "499  17/08/2022  126.57  127.44  124.50  124.50   32862470  0.014458  124.844   \n",
       "500  18/08/2022  124.39  126.50  123.92  126.30   25365910 -0.008709  125.414   \n",
       "501  19/08/2022  126.35  126.36  124.72  125.20   18581110  0.006869  125.478   \n",
       "502  22/08/2022  125.08  126.69  124.70  126.06   24420350  0.034031  125.690   \n",
       "\n",
       "            LMA  \n",
       "11   232.506667  \n",
       "12   233.563333  \n",
       "13   234.006667  \n",
       "14   234.408333  \n",
       "15   234.892500  \n",
       "..          ...  \n",
       "498  125.600000  \n",
       "499  125.363333  \n",
       "500  125.260833  \n",
       "501  125.123333  \n",
       "502  125.049167  \n",
       "\n",
       "[492 rows x 9 columns]"
      ]
     },
     "execution_count": 189,
     "metadata": {},
     "output_type": "execute_result"
    }
   ],
   "source": [
    "df"
   ]
  },
  {
   "cell_type": "code",
   "execution_count": 1,
   "id": "761baea9",
   "metadata": {},
   "outputs": [
    {
     "name": "stdout",
     "output_type": "stream",
     "text": [
      "Object `parse` not found.\n"
     ]
    }
   ],
   "source": []
  },
  {
   "cell_type": "code",
   "execution_count": null,
   "id": "1d4ff3bd",
   "metadata": {},
   "outputs": [],
   "source": []
  },
  {
   "cell_type": "code",
   "execution_count": null,
   "id": "b8cb71b1",
   "metadata": {},
   "outputs": [],
   "source": []
  },
  {
   "cell_type": "code",
   "execution_count": null,
   "id": "3bb26601",
   "metadata": {},
   "outputs": [],
   "source": []
  },
  {
   "cell_type": "code",
   "execution_count": null,
   "id": "e6d5566f",
   "metadata": {},
   "outputs": [],
   "source": []
  }
 ],
 "metadata": {
  "kernelspec": {
   "display_name": "Python 3 (ipykernel)",
   "language": "python",
   "name": "python3"
  },
  "language_info": {
   "codemirror_mode": {
    "name": "ipython",
    "version": 3
   },
   "file_extension": ".py",
   "mimetype": "text/x-python",
   "name": "python",
   "nbconvert_exporter": "python",
   "pygments_lexer": "ipython3",
   "version": "3.10.5"
  }
 },
 "nbformat": 4,
 "nbformat_minor": 5
}
