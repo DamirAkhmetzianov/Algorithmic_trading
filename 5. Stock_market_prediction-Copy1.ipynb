{
 "cells": [
  {
   "cell_type": "markdown",
   "id": "d57d4e1e",
   "metadata": {},
   "source": [
    "# Predict the closing stock price o a company using Long Short Term Memory (LSTM)"
   ]
  },
  {
   "cell_type": "code",
   "execution_count": 1,
   "id": "b4feb28d",
   "metadata": {},
   "outputs": [],
   "source": [
    "# Import Libraries\n",
    "import math\n",
    "import yfinance as yf\n",
    "import numpy as np\n",
    "import pandas as pd\n",
    "from sklearn.preprocessing import MinMaxScaler\n",
    "from keras.models import Sequential\n",
    "from keras.layers import Dense, LSTM\n",
    "import matplotlib.pyplot as plt\n",
    "plt.style.use('fivethirtyeight')"
   ]
  },
  {
   "cell_type": "code",
   "execution_count": 2,
   "id": "46fa63d5",
   "metadata": {},
   "outputs": [
    {
     "name": "stdout",
     "output_type": "stream",
     "text": [
      "[*********************100%***********************]  1 of 1 completed\n"
     ]
    },
    {
     "data": {
      "text/html": [
       "<div>\n",
       "<style scoped>\n",
       "    .dataframe tbody tr th:only-of-type {\n",
       "        vertical-align: middle;\n",
       "    }\n",
       "\n",
       "    .dataframe tbody tr th {\n",
       "        vertical-align: top;\n",
       "    }\n",
       "\n",
       "    .dataframe thead th {\n",
       "        text-align: right;\n",
       "    }\n",
       "</style>\n",
       "<table border=\"1\" class=\"dataframe\">\n",
       "  <thead>\n",
       "    <tr style=\"text-align: right;\">\n",
       "      <th></th>\n",
       "      <th>Open</th>\n",
       "      <th>High</th>\n",
       "      <th>Low</th>\n",
       "      <th>Close</th>\n",
       "      <th>Adj Close</th>\n",
       "      <th>Volume</th>\n",
       "    </tr>\n",
       "    <tr>\n",
       "      <th>Date</th>\n",
       "      <th></th>\n",
       "      <th></th>\n",
       "      <th></th>\n",
       "      <th></th>\n",
       "      <th></th>\n",
       "      <th></th>\n",
       "    </tr>\n",
       "  </thead>\n",
       "  <tbody>\n",
       "    <tr>\n",
       "      <th>2013-12-31</th>\n",
       "      <td>19.791786</td>\n",
       "      <td>20.045713</td>\n",
       "      <td>19.785713</td>\n",
       "      <td>20.036428</td>\n",
       "      <td>17.693249</td>\n",
       "      <td>223084400</td>\n",
       "    </tr>\n",
       "    <tr>\n",
       "      <th>2014-01-02</th>\n",
       "      <td>19.845715</td>\n",
       "      <td>19.893929</td>\n",
       "      <td>19.715000</td>\n",
       "      <td>19.754642</td>\n",
       "      <td>17.444420</td>\n",
       "      <td>234684800</td>\n",
       "    </tr>\n",
       "    <tr>\n",
       "      <th>2014-01-03</th>\n",
       "      <td>19.745001</td>\n",
       "      <td>19.775000</td>\n",
       "      <td>19.301071</td>\n",
       "      <td>19.320715</td>\n",
       "      <td>17.061239</td>\n",
       "      <td>392467600</td>\n",
       "    </tr>\n",
       "    <tr>\n",
       "      <th>2014-01-06</th>\n",
       "      <td>19.194643</td>\n",
       "      <td>19.528570</td>\n",
       "      <td>19.057142</td>\n",
       "      <td>19.426071</td>\n",
       "      <td>17.154274</td>\n",
       "      <td>412610800</td>\n",
       "    </tr>\n",
       "    <tr>\n",
       "      <th>2014-01-07</th>\n",
       "      <td>19.440001</td>\n",
       "      <td>19.498571</td>\n",
       "      <td>19.211430</td>\n",
       "      <td>19.287144</td>\n",
       "      <td>17.031595</td>\n",
       "      <td>317209200</td>\n",
       "    </tr>\n",
       "    <tr>\n",
       "      <th>...</th>\n",
       "      <td>...</td>\n",
       "      <td>...</td>\n",
       "      <td>...</td>\n",
       "      <td>...</td>\n",
       "      <td>...</td>\n",
       "      <td>...</td>\n",
       "    </tr>\n",
       "    <tr>\n",
       "      <th>2022-07-25</th>\n",
       "      <td>154.009995</td>\n",
       "      <td>155.039993</td>\n",
       "      <td>152.279999</td>\n",
       "      <td>152.949997</td>\n",
       "      <td>152.737839</td>\n",
       "      <td>53623900</td>\n",
       "    </tr>\n",
       "    <tr>\n",
       "      <th>2022-07-26</th>\n",
       "      <td>152.259995</td>\n",
       "      <td>153.089996</td>\n",
       "      <td>150.800003</td>\n",
       "      <td>151.600006</td>\n",
       "      <td>151.389725</td>\n",
       "      <td>55138700</td>\n",
       "    </tr>\n",
       "    <tr>\n",
       "      <th>2022-07-27</th>\n",
       "      <td>152.580002</td>\n",
       "      <td>157.330002</td>\n",
       "      <td>152.160004</td>\n",
       "      <td>156.789993</td>\n",
       "      <td>156.572510</td>\n",
       "      <td>78620700</td>\n",
       "    </tr>\n",
       "    <tr>\n",
       "      <th>2022-07-28</th>\n",
       "      <td>156.979996</td>\n",
       "      <td>157.639999</td>\n",
       "      <td>154.410004</td>\n",
       "      <td>157.350006</td>\n",
       "      <td>157.131744</td>\n",
       "      <td>81378700</td>\n",
       "    </tr>\n",
       "    <tr>\n",
       "      <th>2022-07-29</th>\n",
       "      <td>161.240005</td>\n",
       "      <td>163.630005</td>\n",
       "      <td>159.500000</td>\n",
       "      <td>162.509995</td>\n",
       "      <td>162.284576</td>\n",
       "      <td>101689200</td>\n",
       "    </tr>\n",
       "  </tbody>\n",
       "</table>\n",
       "<p>2160 rows × 6 columns</p>\n",
       "</div>"
      ],
      "text/plain": [
       "                  Open        High         Low       Close   Adj Close  \\\n",
       "Date                                                                     \n",
       "2013-12-31   19.791786   20.045713   19.785713   20.036428   17.693249   \n",
       "2014-01-02   19.845715   19.893929   19.715000   19.754642   17.444420   \n",
       "2014-01-03   19.745001   19.775000   19.301071   19.320715   17.061239   \n",
       "2014-01-06   19.194643   19.528570   19.057142   19.426071   17.154274   \n",
       "2014-01-07   19.440001   19.498571   19.211430   19.287144   17.031595   \n",
       "...                ...         ...         ...         ...         ...   \n",
       "2022-07-25  154.009995  155.039993  152.279999  152.949997  152.737839   \n",
       "2022-07-26  152.259995  153.089996  150.800003  151.600006  151.389725   \n",
       "2022-07-27  152.580002  157.330002  152.160004  156.789993  156.572510   \n",
       "2022-07-28  156.979996  157.639999  154.410004  157.350006  157.131744   \n",
       "2022-07-29  161.240005  163.630005  159.500000  162.509995  162.284576   \n",
       "\n",
       "               Volume  \n",
       "Date                   \n",
       "2013-12-31  223084400  \n",
       "2014-01-02  234684800  \n",
       "2014-01-03  392467600  \n",
       "2014-01-06  412610800  \n",
       "2014-01-07  317209200  \n",
       "...               ...  \n",
       "2022-07-25   53623900  \n",
       "2022-07-26   55138700  \n",
       "2022-07-27   78620700  \n",
       "2022-07-28   81378700  \n",
       "2022-07-29  101689200  \n",
       "\n",
       "[2160 rows x 6 columns]"
      ]
     },
     "execution_count": 2,
     "metadata": {},
     "output_type": "execute_result"
    }
   ],
   "source": [
    "# import stock quote\n",
    "stock = 'AAPL'\n",
    "df= yf.download(stock, '2014-01-01', '2022-08-01')\n",
    "df"
   ]
  },
  {
   "cell_type": "code",
   "execution_count": 20,
   "id": "4ecd1db5",
   "metadata": {},
   "outputs": [
    {
     "data": {
      "text/plain": [
       "Open         float64\n",
       "High         float64\n",
       "Low          float64\n",
       "Close        float64\n",
       "Adj Close    float64\n",
       "Volume         int64\n",
       "dtype: object"
      ]
     },
     "execution_count": 20,
     "metadata": {},
     "output_type": "execute_result"
    }
   ],
   "source": [
    "#Humber of cells\n",
    "df.dtypes"
   ]
  },
  {
   "cell_type": "code",
   "execution_count": 4,
   "id": "23b25732",
   "metadata": {},
   "outputs": [
    {
     "data": {
      "image/png": "[encoded data removed]",
      "text/plain": [
       "<Figure size 1152x576 with 1 Axes>"
      ]
     },
     "metadata": {
      "needs_background": "light"
     },
     "output_type": "display_data"
    }
   ],
   "source": [
    "#Visualize the closing price history\n",
    "plt.figure(figsize=(16,8))\n",
    "plt.title('Close Price History')\n",
    "plt.plot(df['Close'])\n",
    "plt.xlabel('Date', fontsize=18)\n",
    "plt.ylabel('Close Prise USD ($)', fontsize=18)\n",
    "plt.show()"
   ]
  },
  {
   "cell_type": "code",
   "execution_count": 5,
   "id": "a07df718",
   "metadata": {},
   "outputs": [
    {
     "data": {
      "text/plain": [
       "1728"
      ]
     },
     "execution_count": 5,
     "metadata": {},
     "output_type": "execute_result"
    }
   ],
   "source": [
    "#Create new dataframe with onle Close Column\n",
    "data = df.filter(['Close'])\n",
    "#Convert the dataframe to a numpy array\n",
    "dataset = data.values\n",
    "#Get the number of rows to train the model on\n",
    "training_data_len = math.ceil(len(dataset)*0.8)\n",
    "training_data_len"
   ]
  },
  {
   "cell_type": "code",
   "execution_count": 6,
   "id": "0a71d7b4",
   "metadata": {},
   "outputs": [
    {
     "data": {
      "text/plain": [
       "array([[0.01332318],\n",
       "       [0.01160666],\n",
       "       [0.00896335],\n",
       "       ...,\n",
       "       [0.84637005],\n",
       "       [0.84978142],\n",
       "       [0.88121396]])"
      ]
     },
     "execution_count": 6,
     "metadata": {},
     "output_type": "execute_result"
    }
   ],
   "source": [
    "#Scale the data\n",
    "scaler = MinMaxScaler(feature_range=(0,1))\n",
    "scaled_data = scaler.fit_transform(dataset)\n",
    "scaled_data"
   ]
  },
  {
   "cell_type": "code",
   "execution_count": 7,
   "id": "a795390a",
   "metadata": {},
   "outputs": [
    {
     "name": "stdout",
     "output_type": "stream",
     "text": [
      "[array([0.01332318, 0.01160666, 0.00896335, 0.00960514, 0.00875885,\n",
      "       0.00950289, 0.00799304, 0.00721419, 0.00782118, 0.01014033,\n",
      "       0.01252693, 0.01185033, 0.0088959 , 0.01072339, 0.01125423,\n",
      "       0.01227021, 0.01007071, 0.01103448, 0.00146199, 0.00021103,\n",
      "       0.        , 0.00017839, 0.00038072, 0.00196018, 0.00278691,\n",
      "       0.0027695 , 0.00432938, 0.00635484, 0.00787122, 0.0078625 ,\n",
      "       0.00971392, 0.00961818, 0.01005331, 0.00817797, 0.00682476,\n",
      "       0.00554117, 0.00604155, 0.00484717, 0.00382248, 0.00606767,\n",
      "       0.00575656, 0.00608725, 0.00684434, 0.00708801, 0.00673774,\n",
      "       0.0066703 , 0.00677473, 0.00789949, 0.00801262, 0.00671599,\n",
      "       0.00541935, 0.00586534, 0.00687915, 0.0068487 , 0.00629175,\n",
      "       0.00719896, 0.00857392, 0.00983575, 0.00870228, 0.00819754])]\n",
      "[0.008067006485259418]\n",
      "\n",
      "[array([0.01332318, 0.01160666, 0.00896335, 0.00960514, 0.00875885,\n",
      "       0.00950289, 0.00799304, 0.00721419, 0.00782118, 0.01014033,\n",
      "       0.01252693, 0.01185033, 0.0088959 , 0.01072339, 0.01125423,\n",
      "       0.01227021, 0.01007071, 0.01103448, 0.00146199, 0.00021103,\n",
      "       0.        , 0.00017839, 0.00038072, 0.00196018, 0.00278691,\n",
      "       0.0027695 , 0.00432938, 0.00635484, 0.00787122, 0.0078625 ,\n",
      "       0.00971392, 0.00961818, 0.01005331, 0.00817797, 0.00682476,\n",
      "       0.00554117, 0.00604155, 0.00484717, 0.00382248, 0.00606767,\n",
      "       0.00575656, 0.00608725, 0.00684434, 0.00708801, 0.00673774,\n",
      "       0.0066703 , 0.00677473, 0.00789949, 0.00801262, 0.00671599,\n",
      "       0.00541935, 0.00586534, 0.00687915, 0.0068487 , 0.00629175,\n",
      "       0.00719896, 0.00857392, 0.00983575, 0.00870228, 0.00819754]), array([0.01160666, 0.00896335, 0.00960514, 0.00875885, 0.00950289,\n",
      "       0.00799304, 0.00721419, 0.00782118, 0.01014033, 0.01252693,\n",
      "       0.01185033, 0.0088959 , 0.01072339, 0.01125423, 0.01227021,\n",
      "       0.01007071, 0.01103448, 0.00146199, 0.00021103, 0.        ,\n",
      "       0.00017839, 0.00038072, 0.00196018, 0.00278691, 0.0027695 ,\n",
      "       0.00432938, 0.00635484, 0.00787122, 0.0078625 , 0.00971392,\n",
      "       0.00961818, 0.01005331, 0.00817797, 0.00682476, 0.00554117,\n",
      "       0.00604155, 0.00484717, 0.00382248, 0.00606767, 0.00575656,\n",
      "       0.00608725, 0.00684434, 0.00708801, 0.00673774, 0.0066703 ,\n",
      "       0.00677473, 0.00789949, 0.00801262, 0.00671599, 0.00541935,\n",
      "       0.00586534, 0.00687915, 0.0068487 , 0.00629175, 0.00719896,\n",
      "       0.00857392, 0.00983575, 0.00870228, 0.00819754, 0.00806701])]\n",
      "[0.008067006485259418, 0.00804091068532381]\n",
      "\n"
     ]
    }
   ],
   "source": [
    "#Create the training data set\n",
    "#Create the scaled training data set\n",
    "train_data = scaled_data[0:training_data_len , :]\n",
    "#Split the data into x_train and y_train data sets\n",
    "x_train = []\n",
    "y_train = []\n",
    "\n",
    "for i in range(60, len(train_data)):\n",
    "    x_train.append(train_data[i-60:i, 0])\n",
    "    y_train.append(train_data[i, 0])\n",
    "    if i<= 61:\n",
    "        print(x_train)\n",
    "        print(y_train)\n",
    "        print()"
   ]
  },
  {
   "cell_type": "code",
   "execution_count": 8,
   "id": "c7949fad",
   "metadata": {},
   "outputs": [],
   "source": [
    "#Convert the x_train and y_train to numpy arrays\n",
    "x_train, y_train = np.array(x_train), np.array(y_train)"
   ]
  },
  {
   "cell_type": "code",
   "execution_count": 9,
   "id": "befa6c52",
   "metadata": {},
   "outputs": [
    {
     "data": {
      "text/plain": [
       "(1668, 60, 1)"
      ]
     },
     "execution_count": 9,
     "metadata": {},
     "output_type": "execute_result"
    }
   ],
   "source": [
    "#Reshape the data\n",
    "x_train = np.reshape(x_train, (x_train.shape[0], x_train.shape[1], 1))\n",
    "x_train.shape"
   ]
  },
  {
   "cell_type": "code",
   "execution_count": 10,
   "id": "2a7894f0",
   "metadata": {},
   "outputs": [],
   "source": [
    "#Build the LSTM model\n",
    "model = Sequential()\n",
    "model.add(LSTM(50, return_sequences=True, input_shape=(x_train.shape[1], 1)))\n",
    "model.add(LSTM(50, return_sequences=False))\n",
    "model.add(Dense(25))\n",
    "model.add(Dense(1))"
   ]
  },
  {
   "cell_type": "code",
   "execution_count": 11,
   "id": "50215b1e",
   "metadata": {},
   "outputs": [],
   "source": [
    "#Compile the model\n",
    "model.compile(optimizer='adam', loss='mean_squared_error')"
   ]
  },
  {
   "cell_type": "code",
   "execution_count": 12,
   "id": "b39045b3",
   "metadata": {},
   "outputs": [
    {
     "name": "stdout",
     "output_type": "stream",
     "text": [
      "1668/1668 [==============================] - 22s 12ms/step - loss: 6.3543e-04\n"
     ]
    },
    {
     "data": {
      "text/plain": [
       "<keras.callbacks.History at 0x22df81492d0>"
      ]
     },
     "execution_count": 12,
     "metadata": {},
     "output_type": "execute_result"
    }
   ],
   "source": [
    "#Train the model\n",
    "model.fit(x_train, y_train, batch_size=1, epochs=1)"
   ]
  },
  {
   "cell_type": "code",
   "execution_count": 13,
   "id": "832831ef",
   "metadata": {},
   "outputs": [],
   "source": [
    "#Create the testing data set\n",
    "#Create a new array containing scaled values from index 1668 to 1728\n",
    "test_data = scaled_data[training_data_len - 60: , :]\n",
    "#Create the data sets x_test and y_test\n",
    "x_test = []\n",
    "y_test = dataset[training_data_len:, :]\n",
    "for i in range(60, len(test_data)):\n",
    "    x_test.append(test_data[i-60:i, 0])"
   ]
  },
  {
   "cell_type": "code",
   "execution_count": 14,
   "id": "fbe02367",
   "metadata": {},
   "outputs": [],
   "source": [
    "#Convert the data to a numpy array\n",
    "x_test = np.array(x_test)"
   ]
  },
  {
   "cell_type": "code",
   "execution_count": 15,
   "id": "153d1429",
   "metadata": {},
   "outputs": [],
   "source": [
    "#Reshape the data\n",
    "x_test = np.reshape(x_test, (x_test.shape[0], x_test.shape[1], 1))"
   ]
  },
  {
   "cell_type": "code",
   "execution_count": 16,
   "id": "d7557a1a",
   "metadata": {},
   "outputs": [
    {
     "name": "stdout",
     "output_type": "stream",
     "text": [
      "14/14 [==============================] - 1s 9ms/step\n"
     ]
    }
   ],
   "source": [
    "# Get the models predicted price values\n",
    "predictions1 = model.predict(x_test)\n",
    "predictions = scaler.inverse_transform(predictions1)"
   ]
  },
  {
   "cell_type": "code",
   "execution_count": 17,
   "id": "505b5067",
   "metadata": {},
   "outputs": [
    {
     "data": {
      "text/plain": [
       "9.868137447922319"
      ]
     },
     "execution_count": 17,
     "metadata": {},
     "output_type": "execute_result"
    }
   ],
   "source": [
    "#Get the root mean squared error (RMSE)\n",
    "rmse = np.sqrt(np.mean(predictions - y_test)**2)\n",
    "rmse"
   ]
  },
  {
   "cell_type": "code",
   "execution_count": 21,
   "id": "53c18fb9",
   "metadata": {},
   "outputs": [
    {
     "name": "stderr",
     "output_type": "stream",
     "text": [
      "C:\\Users\\damir\\AppData\\Local\\Temp\\ipykernel_18256\\39546297.py:4: SettingWithCopyWarning: \n",
      "A value is trying to be set on a copy of a slice from a DataFrame.\n",
      "Try using .loc[row_indexer,col_indexer] = value instead\n",
      "\n",
      "See the caveats in the documentation: https://pandas.pydata.org/pandas-docs/stable/user_guide/indexing.html#returning-a-view-versus-a-copy\n",
      "  valid['Predictions'] = predictions\n"
     ]
    },
    {
     "data": {
      "image/png": "[encoded data removed]",
      "text/plain": [
       "<Figure size 1152x576 with 1 Axes>"
      ]
     },
     "metadata": {
      "needs_background": "light"
     },
     "output_type": "display_data"
    }
   ],
   "source": [
    "#Plot the data\n",
    "train = data[:training_data_len]\n",
    "valid = data[training_data_len:]\n",
    "valid['Predictions'] = predictions\n",
    "\n",
    "#Visualize\n",
    "plt.figure(figsize=(16,8))\n",
    "plt.title('Model')\n",
    "plt.xlabel('Date', fontsize=18)\n",
    "plt.ylabel('Close Prise USD ($)', fontsize=18)\n",
    "plt.plot(train['Close'])\n",
    "plt.plot(valid[['Close', 'Predictions']])\n",
    "plt.legend(['Train', 'Val', 'Predictions'], loc='lower right')\n",
    "plt.show()"
   ]
  },
  {
   "cell_type": "code",
   "execution_count": 22,
   "id": "f4fbee6a",
   "metadata": {},
   "outputs": [
    {
     "data": {
      "text/html": [
       "<div>\n",
       "<style scoped>\n",
       "    .dataframe tbody tr th:only-of-type {\n",
       "        vertical-align: middle;\n",
       "    }\n",
       "\n",
       "    .dataframe tbody tr th {\n",
       "        vertical-align: top;\n",
       "    }\n",
       "\n",
       "    .dataframe thead th {\n",
       "        text-align: right;\n",
       "    }\n",
       "</style>\n",
       "<table border=\"1\" class=\"dataframe\">\n",
       "  <thead>\n",
       "    <tr style=\"text-align: right;\">\n",
       "      <th></th>\n",
       "      <th>Close</th>\n",
       "      <th>Predictions</th>\n",
       "    </tr>\n",
       "    <tr>\n",
       "      <th>Date</th>\n",
       "      <th></th>\n",
       "      <th></th>\n",
       "    </tr>\n",
       "  </thead>\n",
       "  <tbody>\n",
       "    <tr>\n",
       "      <th>2020-11-10</th>\n",
       "      <td>115.970001</td>\n",
       "      <td>110.160187</td>\n",
       "    </tr>\n",
       "    <tr>\n",
       "      <th>2020-11-11</th>\n",
       "      <td>119.489998</td>\n",
       "      <td>110.561432</td>\n",
       "    </tr>\n",
       "    <tr>\n",
       "      <th>2020-11-12</th>\n",
       "      <td>119.209999</td>\n",
       "      <td>111.139244</td>\n",
       "    </tr>\n",
       "    <tr>\n",
       "      <th>2020-11-13</th>\n",
       "      <td>119.260002</td>\n",
       "      <td>111.728401</td>\n",
       "    </tr>\n",
       "    <tr>\n",
       "      <th>2020-11-16</th>\n",
       "      <td>120.300003</td>\n",
       "      <td>112.273735</td>\n",
       "    </tr>\n",
       "    <tr>\n",
       "      <th>...</th>\n",
       "      <td>...</td>\n",
       "      <td>...</td>\n",
       "    </tr>\n",
       "    <tr>\n",
       "      <th>2022-07-25</th>\n",
       "      <td>152.949997</td>\n",
       "      <td>140.152863</td>\n",
       "    </tr>\n",
       "    <tr>\n",
       "      <th>2022-07-26</th>\n",
       "      <td>151.600006</td>\n",
       "      <td>140.800232</td>\n",
       "    </tr>\n",
       "    <tr>\n",
       "      <th>2022-07-27</th>\n",
       "      <td>156.789993</td>\n",
       "      <td>141.170715</td>\n",
       "    </tr>\n",
       "    <tr>\n",
       "      <th>2022-07-28</th>\n",
       "      <td>157.350006</td>\n",
       "      <td>141.760330</td>\n",
       "    </tr>\n",
       "    <tr>\n",
       "      <th>2022-07-29</th>\n",
       "      <td>162.509995</td>\n",
       "      <td>142.438416</td>\n",
       "    </tr>\n",
       "  </tbody>\n",
       "</table>\n",
       "<p>432 rows × 2 columns</p>\n",
       "</div>"
      ],
      "text/plain": [
       "                 Close  Predictions\n",
       "Date                               \n",
       "2020-11-10  115.970001   110.160187\n",
       "2020-11-11  119.489998   110.561432\n",
       "2020-11-12  119.209999   111.139244\n",
       "2020-11-13  119.260002   111.728401\n",
       "2020-11-16  120.300003   112.273735\n",
       "...                ...          ...\n",
       "2022-07-25  152.949997   140.152863\n",
       "2022-07-26  151.600006   140.800232\n",
       "2022-07-27  156.789993   141.170715\n",
       "2022-07-28  157.350006   141.760330\n",
       "2022-07-29  162.509995   142.438416\n",
       "\n",
       "[432 rows x 2 columns]"
      ]
     },
     "execution_count": 22,
     "metadata": {},
     "output_type": "execute_result"
    }
   ],
   "source": [
    "#Show the valid and predicted prices\n",
    "valid"
   ]
  },
  {
   "cell_type": "code",
   "execution_count": 26,
   "id": "d8a0cd30",
   "metadata": {},
   "outputs": [
    {
     "name": "stdout",
     "output_type": "stream",
     "text": [
      "[*********************100%***********************]  1 of 1 completed\n",
      "1/1 [==============================] - 0s 17ms/step\n",
      "[[156.10658]]\n"
     ]
    }
   ],
   "source": [
    "#Get the quote\n",
    "stock_quote = yf.download(stock, '2014-01-01', '2022-08-23')\n",
    "#Create a new dataframe\n",
    "new_df = stock_quote.filter(['Close'])\n",
    "#Get the last 60 day closing values and convert to array\n",
    "last_60_days = new_df[-60:].values\n",
    "#Scale the data to be values between 0 and 1\n",
    "last_60_days_scaled = scaler.transform(last_60_days)\n",
    "#create an empty list\n",
    "X_test = []\n",
    "#Append the past 60 days\n",
    "X_test.append(last_60_days_scaled)\n",
    "#Convert the X_test to a numpy array\n",
    "X_test = np.array(X_test)\n",
    "#Reshape the data\n",
    "X_test = np.reshape(X_test, (X_test.shape[0], X_test.shape[1], 1))\n",
    "#Get the predicted scaled price\n",
    "pred_price = model.predict(X_test)\n",
    "#Undo the scaling\n",
    "pred_price = scaler.inverse_transform(pred_price)\n",
    "print(pred_price)"
   ]
  },
  {
   "cell_type": "code",
   "execution_count": 27,
   "id": "8c935903",
   "metadata": {},
   "outputs": [
    {
     "name": "stdout",
     "output_type": "stream",
     "text": [
      "[*********************100%***********************]  1 of 1 completed\n",
      "Date\n",
      "2022-08-22    167.570007\n",
      "Name: Close, dtype: float64\n"
     ]
    }
   ],
   "source": [
    "stock_quote2 = yf.download(stock, '2022-08-22', '2022-08-23')\n",
    "print(stock_quote2['Close'])"
   ]
  },
  {
   "cell_type": "code",
   "execution_count": null,
   "id": "f0856fca",
   "metadata": {},
   "outputs": [],
   "source": []
  }
 ],
 "metadata": {
  "kernelspec": {
   "display_name": "Python 3 (ipykernel)",
   "language": "python",
   "name": "python3"
  },
  "language_info": {
   "codemirror_mode": {
    "name": "ipython",
    "version": 3
   },
   "file_extension": ".py",
   "mimetype": "text/x-python",
   "name": "python",
   "nbconvert_exporter": "python",
   "pygments_lexer": "ipython3",
   "version": "3.10.5"
  }
 },
 "nbformat": 4,
 "nbformat_minor": 5
}
