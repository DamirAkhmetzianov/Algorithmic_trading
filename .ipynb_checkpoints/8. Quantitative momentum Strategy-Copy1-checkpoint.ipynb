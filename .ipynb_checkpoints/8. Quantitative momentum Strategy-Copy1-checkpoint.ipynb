{
 "cells": [
  {
   "cell_type": "markdown",
   "id": "e0c0d01b",
   "metadata": {},
   "source": [
    "# Quantitative Momentum Strategy"
   ]
  },
  {
   "cell_type": "markdown",
   "id": "92271749",
   "metadata": {},
   "source": [
    "\"Momentum investing\" means investing in the stocks that have increased in price the most.\n",
    "\n",
    "For this project, we're going to build an investing strategy that selects the 50 stocks with the highest price momentum. From there, we will calculate recommended trades for an equal-weight portfolio of these 50 stocks."
   ]
  },
  {
   "cell_type": "markdown",
   "id": "ae56ed6d",
   "metadata": {},
   "source": [
    "## Importing Libraries"
   ]
  },
  {
   "cell_type": "code",
   "execution_count": 1,
   "id": "d8d1daeb",
   "metadata": {},
   "outputs": [],
   "source": [
    "import numpy as np\n",
    "import pandas as pd\n",
    "import requests\n",
    "import math\n",
    "from scipy import stats\n",
    "import xlsxwriter"
   ]
  },
  {
   "cell_type": "markdown",
   "id": "d04f8983",
   "metadata": {},
   "source": [
    "## Import List of Stocks"
   ]
  },
  {
   "cell_type": "code",
   "execution_count": 3,
   "id": "7497b3ec",
   "metadata": {},
   "outputs": [],
   "source": [
    "stocks = pd.read_csv('C:/Users/damir/OneDrive/Документы/Трейдинг/Python/Stocks in the SP 500 Index.csv')\n",
    "from secrety import IEX_CLOUD_API_TOKEN"
   ]
  },
  {
   "cell_type": "markdown",
   "id": "efe9bf4a",
   "metadata": {},
   "source": [
    "## Making an API Call"
   ]
  }
 ],
 "metadata": {
  "kernelspec": {
   "display_name": "Python 3 (ipykernel)",
   "language": "python",
   "name": "python3"
  },
  "language_info": {
   "codemirror_mode": {
    "name": "ipython",
    "version": 3
   },
   "file_extension": ".py",
   "mimetype": "text/x-python",
   "name": "python",
   "nbconvert_exporter": "python",
   "pygments_lexer": "ipython3",
   "version": "3.10.5"
  }
 },
 "nbformat": 4,
 "nbformat_minor": 5
}
